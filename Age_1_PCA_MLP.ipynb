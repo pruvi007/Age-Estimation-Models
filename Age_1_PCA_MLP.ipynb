{
  "nbformat": 4,
  "nbformat_minor": 0,
  "metadata": {
    "colab": {
      "name": "Age-1-PCA-MLP.ipynb",
      "provenance": [],
      "machine_shape": "hm"
    },
    "kernelspec": {
      "name": "python3",
      "display_name": "Python 3"
    }
  },
  "cells": [
    {
      "cell_type": "code",
      "metadata": {
        "id": "H1dtj6z1zH8z",
        "colab_type": "code",
        "outputId": "7745cc60-0492-4cbc-9a16-55db962c26fb",
        "colab": {
          "base_uri": "https://localhost:8080/",
          "height": 98
        }
      },
      "source": [
        "!git clone https://github.com/pruvi007/Age-Estimation-Models"
      ],
      "execution_count": 0,
      "outputs": [
        {
          "output_type": "stream",
          "text": [
            "Cloning into 'Age-Estimation-Models'...\n",
            "remote: Enumerating objects: 2225, done.\u001b[K\n",
            "Receiving objects:   0% (1/2225)   \rReceiving objects:   1% (23/2225), 27.46 MiB | 54.91 MiB/s   \rReceiving objects:   2% (45/2225), 27.46 MiB | 54.91 MiB/s   \rReceiving objects:   3% (67/2225), 27.46 MiB | 54.91 MiB/s   \rReceiving objects:   4% (89/2225), 27.46 MiB | 54.91 MiB/s   \rReceiving objects:   5% (112/2225), 27.46 MiB | 54.91 MiB/s   \rReceiving objects:   6% (134/2225), 27.46 MiB | 54.91 MiB/s   \rReceiving objects:   7% (156/2225), 27.46 MiB | 54.91 MiB/s   \rReceiving objects:   8% (178/2225), 27.46 MiB | 54.91 MiB/s   \rReceiving objects:   9% (201/2225), 27.46 MiB | 54.91 MiB/s   \rReceiving objects:  10% (223/2225), 27.46 MiB | 54.91 MiB/s   \rReceiving objects:  11% (245/2225), 27.46 MiB | 54.91 MiB/s   \rReceiving objects:  12% (267/2225), 27.46 MiB | 54.91 MiB/s   \rReceiving objects:  13% (290/2225), 27.46 MiB | 54.91 MiB/s   \rReceiving objects:  14% (312/2225), 27.46 MiB | 54.91 MiB/s   \rReceiving objects:  15% (334/2225), 27.46 MiB | 54.91 MiB/s   \rReceiving objects:  16% (356/2225), 27.46 MiB | 54.91 MiB/s   \rReceiving objects:  17% (379/2225), 27.46 MiB | 54.91 MiB/s   \rReceiving objects:  18% (401/2225), 27.46 MiB | 54.91 MiB/s   \rReceiving objects:  19% (423/2225), 27.46 MiB | 54.91 MiB/s   \rReceiving objects:  20% (445/2225), 27.46 MiB | 54.91 MiB/s   \rReceiving objects:  20% (446/2225), 53.24 MiB | 53.23 MiB/s   \rReceiving objects:  21% (468/2225), 53.24 MiB | 53.23 MiB/s   \rReceiving objects:  22% (490/2225), 53.24 MiB | 53.23 MiB/s   \rReceiving objects:  23% (512/2225), 53.24 MiB | 53.23 MiB/s   \rReceiving objects:  24% (534/2225), 53.24 MiB | 53.23 MiB/s   \rReceiving objects:  25% (557/2225), 53.24 MiB | 53.23 MiB/s   \rReceiving objects:  26% (579/2225), 53.24 MiB | 53.23 MiB/s   \rReceiving objects:  27% (601/2225), 53.24 MiB | 53.23 MiB/s   \rReceiving objects:  28% (623/2225), 53.24 MiB | 53.23 MiB/s   \rReceiving objects:  29% (646/2225), 53.24 MiB | 53.23 MiB/s   \rReceiving objects:  30% (668/2225), 53.24 MiB | 53.23 MiB/s   \rReceiving objects:  31% (690/2225), 53.24 MiB | 53.23 MiB/s   \rReceiving objects:  32% (712/2225), 53.24 MiB | 53.23 MiB/s   \rReceiving objects:  33% (735/2225), 53.24 MiB | 53.23 MiB/s   \rReceiving objects:  34% (757/2225), 53.24 MiB | 53.23 MiB/s   \rReceiving objects:  35% (779/2225), 53.24 MiB | 53.23 MiB/s   \rReceiving objects:  36% (801/2225), 53.24 MiB | 53.23 MiB/s   \rReceiving objects:  37% (824/2225), 53.24 MiB | 53.23 MiB/s   \rReceiving objects:  38% (846/2225), 53.24 MiB | 53.23 MiB/s   \rReceiving objects:  39% (868/2225), 53.24 MiB | 53.23 MiB/s   \rReceiving objects:  40% (890/2225), 53.24 MiB | 53.23 MiB/s   \rReceiving objects:  41% (913/2225), 53.24 MiB | 53.23 MiB/s   \rReceiving objects:  42% (935/2225), 53.24 MiB | 53.23 MiB/s   \rReceiving objects:  43% (957/2225), 53.24 MiB | 53.23 MiB/s   \rReceiving objects:  44% (979/2225), 53.24 MiB | 53.23 MiB/s   \rReceiving objects:  45% (1002/2225), 53.24 MiB | 53.23 MiB/s   \rReceiving objects:  46% (1024/2225), 53.24 MiB | 53.23 MiB/s   \rReceiving objects:  47% (1046/2225), 53.24 MiB | 53.23 MiB/s   \rReceiving objects:  48% (1068/2225), 53.24 MiB | 53.23 MiB/s   \rReceiving objects:  49% (1091/2225), 53.24 MiB | 53.23 MiB/s   \rReceiving objects:  50% (1113/2225), 83.14 MiB | 55.42 MiB/s   \rReceiving objects:  51% (1135/2225), 83.14 MiB | 55.42 MiB/s   \rReceiving objects:  52% (1157/2225), 83.14 MiB | 55.42 MiB/s   \rReceiving objects:  53% (1180/2225), 83.14 MiB | 55.42 MiB/s   \rReceiving objects:  54% (1202/2225), 83.14 MiB | 55.42 MiB/s   \rReceiving objects:  55% (1224/2225), 83.14 MiB | 55.42 MiB/s   \rReceiving objects:  56% (1246/2225), 83.14 MiB | 55.42 MiB/s   \rReceiving objects:  57% (1269/2225), 83.14 MiB | 55.42 MiB/s   \rReceiving objects:  58% (1291/2225), 83.14 MiB | 55.42 MiB/s   \rReceiving objects:  59% (1313/2225), 83.14 MiB | 55.42 MiB/s   \rReceiving objects:  60% (1335/2225), 83.14 MiB | 55.42 MiB/s   \rReceiving objects:  61% (1358/2225), 83.14 MiB | 55.42 MiB/s   \rReceiving objects:  62% (1380/2225), 83.14 MiB | 55.42 MiB/s   \rReceiving objects:  63% (1402/2225), 83.14 MiB | 55.42 MiB/s   \rReceiving objects:  64% (1424/2225), 83.14 MiB | 55.42 MiB/s   \rReceiving objects:  65% (1447/2225), 83.14 MiB | 55.42 MiB/s   \rReceiving objects:  66% (1469/2225), 83.14 MiB | 55.42 MiB/s   \rReceiving objects:  67% (1491/2225), 83.14 MiB | 55.42 MiB/s   \rReceiving objects:  68% (1513/2225), 83.14 MiB | 55.42 MiB/s   \rReceiving objects:  69% (1536/2225), 83.14 MiB | 55.42 MiB/s   \rReceiving objects:  70% (1558/2225), 83.14 MiB | 55.42 MiB/s   \rReceiving objects:  71% (1580/2225), 83.14 MiB | 55.42 MiB/s   \rReceiving objects:  72% (1602/2225), 83.14 MiB | 55.42 MiB/s   \rReceiving objects:  73% (1625/2225), 83.14 MiB | 55.42 MiB/s   \rReceiving objects:  74% (1647/2225), 83.14 MiB | 55.42 MiB/s   \rReceiving objects:  75% (1669/2225), 83.14 MiB | 55.42 MiB/s   \rReceiving objects:  76% (1691/2225), 83.14 MiB | 55.42 MiB/s   \rReceiving objects:  77% (1714/2225), 83.14 MiB | 55.42 MiB/s   \rReceiving objects:  78% (1736/2225), 83.14 MiB | 55.42 MiB/s   \rReceiving objects:  79% (1758/2225), 83.14 MiB | 55.42 MiB/s   \rReceiving objects:  80% (1780/2225), 83.14 MiB | 55.42 MiB/s   \rReceiving objects:  81% (1803/2225), 83.14 MiB | 55.42 MiB/s   \rReceiving objects:  82% (1825/2225), 83.14 MiB | 55.42 MiB/s   \rReceiving objects:  83% (1847/2225), 83.14 MiB | 55.42 MiB/s   \rReceiving objects:  84% (1869/2225), 83.14 MiB | 55.42 MiB/s   \rReceiving objects:  85% (1892/2225), 83.14 MiB | 55.42 MiB/s   \rReceiving objects:  86% (1914/2225), 83.14 MiB | 55.42 MiB/s   \rReceiving objects:  87% (1936/2225), 83.14 MiB | 55.42 MiB/s   \rReceiving objects:  88% (1958/2225), 83.14 MiB | 55.42 MiB/s   \rReceiving objects:  89% (1981/2225), 83.14 MiB | 55.42 MiB/s   \rReceiving objects:  90% (2003/2225), 83.14 MiB | 55.42 MiB/s   \rReceiving objects:  91% (2025/2225), 83.14 MiB | 55.42 MiB/s   \rReceiving objects:  92% (2047/2225), 83.14 MiB | 55.42 MiB/s   \rReceiving objects:  93% (2070/2225), 83.14 MiB | 55.42 MiB/s   \rReceiving objects:  94% (2092/2225), 83.14 MiB | 55.42 MiB/s   \rremote: Total 2225 (delta 0), reused 0 (delta 0), pack-reused 2225\u001b[K\n",
            "Receiving objects: 100% (2225/2225), 88.94 MiB | 54.57 MiB/s, done.\n",
            "Resolving deltas: 100% (1/1), done.\n"
          ],
          "name": "stdout"
        }
      ]
    },
    {
      "cell_type": "code",
      "metadata": {
        "id": "qMOKBKsIkk2x",
        "colab_type": "code",
        "colab": {}
      },
      "source": [
        "import os\n",
        "import cv2\n",
        "import numpy as np"
      ],
      "execution_count": 0,
      "outputs": []
    },
    {
      "cell_type": "code",
      "metadata": {
        "id": "2oA5IjG1kXVd",
        "colab_type": "code",
        "colab": {}
      },
      "source": [
        "def hotVector(n,classes):\n",
        "    vector = [ 0 for i in range(classes) ]\n",
        "    vector[n-1] = 1\n",
        "    vector = np.array(vector)\n",
        "    return vector"
      ],
      "execution_count": 0,
      "outputs": []
    },
    {
      "cell_type": "code",
      "metadata": {
        "id": "9-Tii1khzt9e",
        "colab_type": "code",
        "outputId": "a83a371f-05c2-4511-8c79-a4cb56aa885f",
        "colab": {
          "base_uri": "https://localhost:8080/",
          "height": 66
        }
      },
      "source": [
        "# get the images from directory\n",
        "dir = \"Age-Estimation-Models/FGNET/FGNET/images\"\n",
        "images = []\n",
        "for file in os.listdir(dir):\n",
        "    img = cv2.imread(dir+\"/\"+file,0)\n",
        "    images.append(img)\n",
        "images = np.array(images)\n",
        "print(np.shape(images[0]))\n",
        "# resize the images for uniformity\n",
        "min_x, min_y = 1000,1000\n",
        "for img in images:\n",
        "    min_x, min_y = min(min_x,np.shape(img)[0]), min(min_y,np.shape(img)[1])\n",
        "print(min_x,min_y)\n",
        "for i in range(len(images)):\n",
        "    width = min_x\n",
        "    height = min_y\n",
        "    dim = (width, height)\n",
        "    resized = cv2.resize(images[i], dim, interpolation = cv2.INTER_AREA)\n",
        "    images[i] = resized\n",
        "\n",
        "ages = []\n",
        "for file in os.listdir(dir):\n",
        "    s = file.split('.')\n",
        "    a = []\n",
        "    n = len(s[0])\n",
        "    for i in range(n-1,-1,-1):\n",
        "        if s[0][i]=='A':\n",
        "            break\n",
        "        a.append(s[0][i])\n",
        "    if a[0] in ['a','b','c','d','e']:\n",
        "        a.pop(0)\n",
        "    age = 0\n",
        "    for i in range(len(a)-1,-1,-1):\n",
        "        age = age*10 + int(a[i])\n",
        "    \n",
        "    # print(file)\n",
        "    # print(age)\n",
        "    ages.append(hotVector(age,100))\n",
        "ages = np.array(ages)\n",
        "print(np.shape(ages))"
      ],
      "execution_count": 0,
      "outputs": [
        {
          "output_type": "stream",
          "text": [
            "(448, 409)\n",
            "359 300\n",
            "(1002, 100)\n"
          ],
          "name": "stdout"
        }
      ]
    },
    {
      "cell_type": "code",
      "metadata": {
        "id": "eo7BjJHZg8Jj",
        "colab_type": "code",
        "colab": {}
      },
      "source": [
        ""
      ],
      "execution_count": 0,
      "outputs": []
    },
    {
      "cell_type": "code",
      "metadata": {
        "id": "md2-Gj6FhkAz",
        "colab_type": "code",
        "outputId": "4cbc2aea-737b-41b3-af74-5707f841e500",
        "colab": {
          "base_uri": "https://localhost:8080/",
          "height": 200
        }
      },
      "source": [
        "from sklearn.neural_network import MLPClassifier\n",
        "perc = 50\n",
        "train_x = []\n",
        "train_y = []\n",
        "for i in range((len(images)*perc)//100):\n",
        "    train_x.append( images[i].flatten() )\n",
        "    train_y.append( ages[i] )\n",
        "\n",
        "# print(np.shape(train_x),np.shape(train_y))\n",
        "mlp = MLPClassifier(hidden_layer_sizes=(1024,512,100), activation='relu', solver='adam', alpha=0.0001, batch_size='auto' )\n",
        "mlp.fit(train_x,train_y)"
      ],
      "execution_count": 0,
      "outputs": [
        {
          "output_type": "stream",
          "text": [
            "/usr/local/lib/python3.6/dist-packages/sklearn/neural_network/_multilayer_perceptron.py:571: ConvergenceWarning: Stochastic Optimizer: Maximum iterations (200) reached and the optimization hasn't converged yet.\n",
            "  % self.max_iter, ConvergenceWarning)\n"
          ],
          "name": "stderr"
        },
        {
          "output_type": "execute_result",
          "data": {
            "text/plain": [
              "MLPClassifier(activation='relu', alpha=0.0001, batch_size='auto', beta_1=0.9,\n",
              "              beta_2=0.999, early_stopping=False, epsilon=1e-08,\n",
              "              hidden_layer_sizes=(1024, 512, 100), learning_rate='constant',\n",
              "              learning_rate_init=0.001, max_fun=15000, max_iter=200,\n",
              "              momentum=0.9, n_iter_no_change=10, nesterovs_momentum=True,\n",
              "              power_t=0.5, random_state=None, shuffle=True, solver='adam',\n",
              "              tol=0.0001, validation_fraction=0.1, verbose=False,\n",
              "              warm_start=False)"
            ]
          },
          "metadata": {
            "tags": []
          },
          "execution_count": 21
        }
      ]
    },
    {
      "cell_type": "code",
      "metadata": {
        "id": "OdbpFR3Zwpgj",
        "colab_type": "code",
        "outputId": "0acf5fcc-cf04-4303-eb25-0cccb97135f6",
        "colab": {
          "base_uri": "https://localhost:8080/",
          "height": 33
        }
      },
      "source": [
        "mae = 0\n",
        "for i in range((len(images)*perc)//100,len(images)):\n",
        "    f = images[i].flatten().reshape(1, -1)\n",
        "    p_age = mlp.predict(f)\n",
        "    # print(\"Predicted:{}, Actual:{}\".format(np.argmax(p_age),np.argmax(ages[i])))\n",
        "    mae += abs( np.argmax(p_age)-np.argmax(ages[i]) )\n",
        "print(\"MAE:\",mae/len(images))"
      ],
      "execution_count": 0,
      "outputs": [
        {
          "output_type": "stream",
          "text": [
            "MAE: 9.258483033932135\n"
          ],
          "name": "stdout"
        }
      ]
    }
  ]
}