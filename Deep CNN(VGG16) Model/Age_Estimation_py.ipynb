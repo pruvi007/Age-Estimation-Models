{
  "nbformat": 4,
  "nbformat_minor": 0,
  "metadata": {
    "colab": {
      "name": "Age Estimation.py",
      "provenance": [],
      "collapsed_sections": []
    },
    "kernelspec": {
      "name": "python3",
      "display_name": "Python 3"
    },
    "accelerator": "GPU"
  },
  "cells": [
    {
      "cell_type": "code",
      "metadata": {
        "id": "cLz9XmCRYysd",
        "colab_type": "code",
        "colab": {}
      },
      "source": [
        "\n",
        "from google.colab import drive\n",
        "drive.mount(\"/content/gdrive\", force_remount=True)"
      ],
      "execution_count": 0,
      "outputs": []
    },
    {
      "cell_type": "code",
      "metadata": {
        "id": "MXK3X7Ulyf4M",
        "colab_type": "code",
        "colab": {}
      },
      "source": [
        "# weights for pytorch model\n",
        "!wget http://www.robots.ox.ac.uk/~albanie/models/pytorch-mcn/vgg_face_dag.pth\n",
        "!wget --user adiencedb --password adience http://www.cslab.openu.ac.il/download/adiencedb/AdienceBenchmarkOfUnfilteredFacesForGenderAndAgeClassification/faces.tar.gz"
      ],
      "execution_count": 0,
      "outputs": []
    },
    {
      "cell_type": "code",
      "metadata": {
        "id": "8ClWDt5i3SVo",
        "colab_type": "code",
        "colab": {}
      },
      "source": [
        "! mkdir -p /content/data\n",
        "! mkdir -p /content/weight\n",
        "! mkdir -p /content/source\n"
      ],
      "execution_count": 0,
      "outputs": []
    },
    {
      "cell_type": "code",
      "metadata": {
        "id": "MNR4WuN9hJeY",
        "colab_type": "code",
        "colab": {}
      },
      "source": [
        "! cp vgg_face_dag.pth weight/\n",
        "!rm -r vgg_face_dag.pth"
      ],
      "execution_count": 0,
      "outputs": []
    },
    {
      "cell_type": "code",
      "metadata": {
        "id": "mov6OVfWZlsd",
        "colab_type": "code",
        "colab": {}
      },
      "source": [
        "!cp /content/gdrive/'My Drive'/source.tar.gz /content/source"
      ],
      "execution_count": 0,
      "outputs": []
    },
    {
      "cell_type": "code",
      "metadata": {
        "id": "84wC31nlbcN5",
        "colab_type": "code",
        "colab": {}
      },
      "source": [
        "! tar -xf source/source.tar.gz -C .\n",
        "! rm -r source/source.tar.gz"
      ],
      "execution_count": 0,
      "outputs": []
    },
    {
      "cell_type": "code",
      "metadata": {
        "id": "nmZOZ8WAdDnR",
        "colab_type": "code",
        "colab": {}
      },
      "source": [
        "! tar -xf faces.tar.gz -C data/\n",
        "! rm faces.tar.gz"
      ],
      "execution_count": 0,
      "outputs": []
    },
    {
      "cell_type": "code",
      "metadata": {
        "id": "3aj5UwtLdiAu",
        "colab_type": "code",
        "colab": {}
      },
      "source": [
        "import pandas as pd"
      ],
      "execution_count": 0,
      "outputs": []
    },
    {
      "cell_type": "code",
      "metadata": {
        "id": "8zlsCDUud5LX",
        "colab_type": "code",
        "colab": {}
      },
      "source": [
        "!wget --user adiencedb --password adience http://www.cslab.openu.ac.il/download/adiencedb/AdienceBenchmarkOfUnfilteredFacesForGenderAndAgeClassification/fold_0_data.txt\n",
        "!wget --user adiencedb --password adience http://www.cslab.openu.ac.il/download/adiencedb/AdienceBenchmarkOfUnfilteredFacesForGenderAndAgeClassification/fold_1_data.txt\n",
        "!wget --user adiencedb --password adience http://www.cslab.openu.ac.il/download/adiencedb/AdienceBenchmarkOfUnfilteredFacesForGenderAndAgeClassification/fold_2_data.txt\n",
        "!wget --user adiencedb --password adience http://www.cslab.openu.ac.il/download/adiencedb/AdienceBenchmarkOfUnfilteredFacesForGenderAndAgeClassification/fold_3_data.txt\n",
        "!wget --user adiencedb --password adience http://www.cslab.openu.ac.il/download/adiencedb/AdienceBenchmarkOfUnfilteredFacesForGenderAndAgeClassification/fold_4_data.txt"
      ],
      "execution_count": 0,
      "outputs": []
    },
    {
      "cell_type": "code",
      "metadata": {
        "id": "o1dK3lskeeZv",
        "colab_type": "code",
        "colab": {}
      },
      "source": [
        "!cp *.txt data/\n",
        "!rm -r *.txt"
      ],
      "execution_count": 0,
      "outputs": []
    },
    {
      "cell_type": "code",
      "metadata": {
        "id": "WExZucsNdoLX",
        "colab_type": "code",
        "colab": {}
      },
      "source": [
        "frames = []\n",
        "folder_path = \"data/\"\n",
        "\n",
        "for i in range(5):\n",
        "    temp_df = pd.read_csv(folder_path + \"fold_\" + str(i) + \"_data.txt\", delimiter=\"\\t\")\n",
        "    frames.append(temp_df)\n",
        "\n",
        "df = pd.concat(frames)"
      ],
      "execution_count": 0,
      "outputs": []
    },
    {
      "cell_type": "code",
      "metadata": {
        "id": "0aFluQ6ce4e4",
        "colab_type": "code",
        "colab": {}
      },
      "source": [
        "df.head()"
      ],
      "execution_count": 0,
      "outputs": []
    },
    {
      "cell_type": "code",
      "metadata": {
        "id": "6wHuRdrqe-uo",
        "colab_type": "code",
        "colab": {}
      },
      "source": [
        "\"\"\"\n",
        "FINAL CLASSES\n",
        "(00, 02)\n",
        "(04, 06)\n",
        "(08, 12)\n",
        "(15, 20)\n",
        "(25, 32)\n",
        "(38, 43)\n",
        "(48, 53)\n",
        "(60, 100)\n",
        "None\n",
        "\"\"\"\n",
        "\n",
        "# for cleaning anomalies\n",
        "map_dict = {\n",
        "    \"13\": \"(08, 12)\",\n",
        "    \"2\" : \"(00, 02)\",\n",
        "    \"22\": \"(15, 20)\",\n",
        "    \"23\": \"(25, 32)\",\n",
        "    \"29\": \"(25, 32)\",\n",
        "    \"3\" : \"(00, 02)\",\n",
        "    \"32\": \"(25, 32)\",\n",
        "    \"34\": \"(25, 32)\",\n",
        "    \"35\": \"(25, 32)\",\n",
        "    \"36\": \"(38, 43)\",\n",
        "    \"42\": \"(38, 43)\",\n",
        "    \"45\": \"(38, 43)\",\n",
        "    \"46\": \"(48, 53)\",\n",
        "    \"55\": \"(48, 53)\",\n",
        "    \"56\": \"(48, 53)\",\n",
        "    \"57\": \"(60, 100)\",\n",
        "    \"58\": \"(60, 100)\",\n",
        "    \n",
        "    \"(8, 23)\" : \"(08, 12)\",\n",
        "    \"(27, 32)\": \"(25, 32)\",\n",
        "    \"(38, 42)\": \"(38, 43)\",\n",
        "    \"(38, 48)\": \"(38, 43)\",\n",
        "\n",
        "    \"(00, 02)\" : \"(00, 02)\",\n",
        "    \"(04, 06)\" : \"(04, 06)\",\n",
        "    \"(08, 12)\" : \"(08, 12)\",\n",
        "    \"(15, 20)\" : \"(15, 20)\",\n",
        "    \"(25, 32)\" : \"(25, 32)\",\n",
        "    \"(38, 43)\" : \"(38, 43)\",\n",
        "    \"(48, 53)\" : \"(48, 53)\",\n",
        "    \"(60, 100)\": \"(60, 100)\"\n",
        "}\n",
        "\n",
        "def map_func(x):\n",
        "    if x in map_dict:\n",
        "        return map_dict[x]\n",
        "    else:\n",
        "        return x\n",
        "\n",
        "df[\"age\"] = df[\"age\"].map(map_func)"
      ],
      "execution_count": 0,
      "outputs": []
    },
    {
      "cell_type": "code",
      "metadata": {
        "id": "Pm2vsCQmfS-6",
        "colab_type": "code",
        "colab": {}
      },
      "source": [
        "df[\"age\"].value_counts()"
      ],
      "execution_count": 0,
      "outputs": []
    },
    {
      "cell_type": "code",
      "metadata": {
        "id": "cYbLaTNXfW9c",
        "colab_type": "code",
        "colab": {}
      },
      "source": [
        "import os\n",
        "import shutil"
      ],
      "execution_count": 0,
      "outputs": []
    },
    {
      "cell_type": "code",
      "metadata": {
        "id": "aSfGrVkufX6A",
        "colab_type": "code",
        "colab": {}
      },
      "source": [
        "folder_path = \"/content/data/faces/\""
      ],
      "execution_count": 0,
      "outputs": []
    },
    {
      "cell_type": "code",
      "metadata": {
        "id": "Wc12b3ByfcGE",
        "colab_type": "code",
        "colab": {}
      },
      "source": [
        "file_list = []\n",
        "formats = [\"jpg\", \"png\"]\n",
        "\n",
        "for subdir in os.listdir(folder_path):\n",
        "    subpath = os.path.join(folder_path, subdir)\n",
        "    if os.path.isdir(subpath):\n",
        "        for f in os.listdir(subpath):\n",
        "            filepath = os.path.join(subpath, f)\n",
        "            part = f.split(\".\")\n",
        "            if os.path.isfile(filepath) and part[-1] in formats:\n",
        "                file_list.append((filepath, f))\n",
        "\n",
        "print(len(file_list))"
      ],
      "execution_count": 0,
      "outputs": []
    },
    {
      "cell_type": "code",
      "metadata": {
        "id": "lswjBKr0fgRJ",
        "colab_type": "code",
        "colab": {}
      },
      "source": [
        "# DONT INTERRUPT WHILE RUNNING\n",
        "# SHOWS PROGRESS\n",
        "\n",
        "im_len = len(file_list)\n",
        "\n",
        "for i, (filepath, filename) in enumerate(file_list):\n",
        "\n",
        "    # get the identifiers\n",
        "    parts = filename.split(\".\")\n",
        "    user_id = filepath.split(\"/\")[-2]\n",
        "    file_id = parts[-2] + \".\" + parts[-1]\n",
        "    face_id = int(parts[-3])\n",
        "\n",
        "    # find class\n",
        "    class_ = df[\n",
        "       (df[\"user_id\"] == user_id) & \n",
        "       (df[\"original_image\"] == file_id) & \n",
        "       (df[\"face_id\"] == face_id)\n",
        "    ][\"age\"].values[0]\n",
        "\n",
        "    new_path = os.path.join(folder_path, class_)\n",
        "    \n",
        "    if not os.path.exists(new_path):\n",
        "        os.makedirs(new_path)\n",
        "\n",
        "    # move file\n",
        "    new_path = os.path.join(new_path, filename)\n",
        "    shutil.move(filepath, new_path)\n",
        "    \n",
        "    # progress\n",
        "    prog = (20 * (i + 1)) // im_len\n",
        "    print(\"\\r[\" + \"=\"*prog + \"_\"*(20-prog) + \"]\", end=\"\")"
      ],
      "execution_count": 0,
      "outputs": []
    },
    {
      "cell_type": "code",
      "metadata": {
        "id": "axM26BhLf1R8",
        "colab_type": "code",
        "colab": {}
      },
      "source": [
        "# delete unwanted files or empty folders\n",
        "folder_path = \"/content/data/faces/\"\n",
        "\n",
        "for subdir in os.listdir(folder_path):\n",
        "    subpath = os.path.join(folder_path, subdir)\n",
        "\n",
        "    if os.path.isdir(subpath):\n",
        "        if subdir[0] != \"(\":\n",
        "            shutil.rmtree(subpath)\n",
        "    elif os.path.isfile(subpath):\n",
        "        os.remove(subdir)"
      ],
      "execution_count": 0,
      "outputs": []
    },
    {
      "cell_type": "code",
      "metadata": {
        "id": "9IXQIrelf7Bq",
        "colab_type": "code",
        "colab": {}
      },
      "source": [
        "# list the classes\n",
        "! ls data/faces"
      ],
      "execution_count": 0,
      "outputs": []
    },
    {
      "cell_type": "code",
      "metadata": {
        "id": "0ZA9DDeMgEuG",
        "colab_type": "code",
        "colab": {}
      },
      "source": [
        "! mkdir -p 'data/faces/(00, 02)'\n",
        "! mkdir -p 'data/faces/(04, 06)'\n",
        "! mkdir -p 'data/faces/(08, 12)'"
      ],
      "execution_count": 0,
      "outputs": []
    },
    {
      "cell_type": "code",
      "metadata": {
        "id": "QWTrfmv0gJ0Q",
        "colab_type": "code",
        "colab": {}
      },
      "source": [
        "! mv 'data/faces/(0, 2)'/* 'data/faces/(00, 02)'\n",
        "! mv 'data/faces/(4, 6)'/* 'data/faces/(04, 06)'\n",
        "! mv 'data/faces/(8, 12)'/* 'data/faces/(08, 12)'"
      ],
      "execution_count": 0,
      "outputs": []
    },
    {
      "cell_type": "code",
      "metadata": {
        "id": "2LwwAf8XgM4H",
        "colab_type": "code",
        "colab": {}
      },
      "source": [
        "! rm -rf 'data/faces/(0, 2)'\n",
        "! rm -rf 'data/faces/(4, 6)'\n",
        "! rm -rf 'data/faces/(8, 12)'"
      ],
      "execution_count": 0,
      "outputs": []
    },
    {
      "cell_type": "code",
      "metadata": {
        "id": "jyiujlYsgR7C",
        "colab_type": "code",
        "colab": {}
      },
      "source": [
        "! ls data/faces"
      ],
      "execution_count": 0,
      "outputs": []
    },
    {
      "cell_type": "code",
      "metadata": {
        "id": "sPDjO3rZgY55",
        "colab_type": "code",
        "colab": {}
      },
      "source": [
        "import torch\n",
        "import source.models as models\n",
        "import source.worker as worker\n",
        "import source.loader as loader"
      ],
      "execution_count": 0,
      "outputs": []
    },
    {
      "cell_type": "code",
      "metadata": {
        "id": "Rq0xxISWgeln",
        "colab_type": "code",
        "colab": {}
      },
      "source": [
        "# the mean and std of dataset are found by running this\n",
        "# takes some time to iterate twice\n",
        "loader.find_mean_std(\"data/faces\")"
      ],
      "execution_count": 0,
      "outputs": []
    },
    {
      "cell_type": "code",
      "metadata": {
        "id": "sTFyiN6_gilJ",
        "colab_type": "code",
        "colab": {}
      },
      "source": [
        "loader.random_scale = (0.8, 1.0)\n",
        "loader.mean = [0.437, 0.340, 0.304]\n",
        "loader.std  = [0.286, 0.252, 0.236]"
      ],
      "execution_count": 0,
      "outputs": []
    },
    {
      "cell_type": "code",
      "metadata": {
        "id": "AHsRIBEWhgwP",
        "colab_type": "code",
        "colab": {}
      },
      "source": [
        "# Dataset Loader to feed into network\n",
        "# 20% of data is used for validation\n",
        "loaders = loader.split_loader(\"data/faces\", valid_frac=0.2, batch_size=32)"
      ],
      "execution_count": 0,
      "outputs": []
    },
    {
      "cell_type": "code",
      "metadata": {
        "id": "ODsM-pQOhj5K",
        "colab_type": "code",
        "colab": {}
      },
      "source": [
        "# pretrained weights - for convolution layers\n",
        "state = loader.load_pth(\"weight/vgg_face_dag.pth\")"
      ],
      "execution_count": 0,
      "outputs": []
    },
    {
      "cell_type": "code",
      "metadata": {
        "id": "5cJ-gkZthpgs",
        "colab_type": "code",
        "colab": {}
      },
      "source": [
        "model = models.vgg16(num_classes=8)"
      ],
      "execution_count": 0,
      "outputs": []
    },
    {
      "cell_type": "code",
      "metadata": {
        "id": "NPo-fm__hsLU",
        "colab_type": "code",
        "colab": {}
      },
      "source": [
        "# pretrained vgg-face\n",
        "model.load_weights(state)"
      ],
      "execution_count": 0,
      "outputs": []
    },
    {
      "cell_type": "code",
      "metadata": {
        "id": "DCftxKqKhyID",
        "colab_type": "code",
        "colab": {}
      },
      "source": [
        "# gives parameter count and memory in MB\n",
        "model.memory_usage()"
      ],
      "execution_count": 0,
      "outputs": []
    },
    {
      "cell_type": "code",
      "metadata": {
        "id": "kLrVhDYxh-CU",
        "colab_type": "code",
        "colab": {}
      },
      "source": [
        "# train for one epoch\n",
        "worker.train(model, loaders, lr=0.01, epochs=15)"
      ],
      "execution_count": 0,
      "outputs": []
    },
    {
      "cell_type": "code",
      "metadata": {
        "id": "BPCy2IHHiOjj",
        "colab_type": "code",
        "colab": {}
      },
      "source": [
        "check = loader.load_pth(\"checkpoint.pth\")\n",
        "model.load_weights(check[\"state_dict\"])"
      ],
      "execution_count": 0,
      "outputs": []
    },
    {
      "cell_type": "code",
      "metadata": {
        "id": "tOr0pBsZiPRK",
        "colab_type": "code",
        "colab": {}
      },
      "source": [
        "valid_loader = loaders[1]\n",
        "conf_mat = worker.confusion_matrix(model, valid_loader)"
      ],
      "execution_count": 0,
      "outputs": []
    },
    {
      "cell_type": "code",
      "metadata": {
        "id": "qYmMNRLriR6u",
        "colab_type": "code",
        "colab": {}
      },
      "source": [
        "for row in conf_mat:\n",
        "    for elem in row:\n",
        "        print(\"%.2f\"%(elem*100), end=\"\\t\")\n",
        "    print(\"\")"
      ],
      "execution_count": 0,
      "outputs": []
    },
    {
      "cell_type": "code",
      "metadata": {
        "id": "VNaGyX0TiU01",
        "colab_type": "code",
        "colab": {}
      },
      "source": [
        "# one-off accuracy\n",
        "ncls = len(conf_mat)\n",
        "tot_acc = 0\n",
        "\n",
        "for i in range(ncls):\n",
        "    \n",
        "    acc = conf_mat[i][i]\n",
        "\n",
        "    # add left\n",
        "    if i > 0:\n",
        "        acc += conf_mat[i][i-1]\n",
        "    \n",
        "    if i < ncls - 1:\n",
        "        acc += conf_mat[i][i+1]\n",
        "    \n",
        "    tot_acc += acc\n",
        "\n",
        "tot_acc = tot_acc / ncls\n",
        "print(\"%.2f\" % (tot_acc * 100))"
      ],
      "execution_count": 0,
      "outputs": []
    },
    {
      "cell_type": "code",
      "metadata": {
        "id": "ZoZNqUtHiYt3",
        "colab_type": "code",
        "colab": {}
      },
      "source": [
        "import os\n",
        "import matplotlib.pyplot as plt\n",
        "import torchvision.transforms as transforms"
      ],
      "execution_count": 0,
      "outputs": []
    },
    {
      "cell_type": "code",
      "metadata": {
        "id": "RZ4euQ89ihT_",
        "colab_type": "code",
        "colab": {}
      },
      "source": [
        "# get index to class mapping\n",
        "dire = \"data/faces\"\n",
        "classes = os.listdir(dire)\n",
        "classes.sort()\n",
        "idx_to_class = {i:classes[i] for i in range(len(classes))}\n",
        "print(idx_to_class)"
      ],
      "execution_count": 0,
      "outputs": []
    },
    {
      "cell_type": "code",
      "metadata": {
        "id": "XpU52c3WilNg",
        "colab_type": "code",
        "colab": {}
      },
      "source": [
        "# turn model to evaluation and move to cpu\n",
        "model.eval()\n",
        "batch_size = 32\n",
        "model.to(torch.device(\"cpu\"))"
      ],
      "execution_count": 0,
      "outputs": []
    },
    {
      "cell_type": "code",
      "metadata": {
        "id": "iepQOnyoiqTr",
        "colab_type": "code",
        "colab": {}
      },
      "source": [
        "\n",
        "# inverse transform to show images\n",
        "mean = loader.mean\n",
        "std  = loader.std\n",
        "mn_inv = [-m/s for m, s in zip(mean, std)]\n",
        "sd_inv = [1/s for s in std]\n",
        "inv_transform = transforms.Normalize(mean=mn_inv, std=sd_inv)"
      ],
      "execution_count": 0,
      "outputs": []
    },
    {
      "cell_type": "code",
      "metadata": {
        "id": "e6idY4YZiu79",
        "colab_type": "code",
        "colab": {}
      },
      "source": [
        "with torch.no_grad():\n",
        "    for i, (input, target) in enumerate(valid_loader):\n",
        "\n",
        "        output = model(input)\n",
        "        _, preds = torch.max(output, 1)\n",
        "\n",
        "        fig=plt.figure(figsize=(15, 15))\n",
        "        columns = 4\n",
        "        rows = 5\n",
        "\n",
        "        for i in range(1, columns*rows + 1):\n",
        "\n",
        "            pred_class = idx_to_class[int(preds[i])]\n",
        "            real_class = idx_to_class[int(target[i])]\n",
        "\n",
        "            ax = fig.add_subplot(rows, columns, i)\n",
        "            ax.title.set_text(\"pred:\" + pred_class + \",\" + \"real:\" + real_class)\n",
        "            ax.axis(\"off\")\n",
        "\n",
        "            plt.imshow(inv_transform(input[i]).permute(1, 2, 0))\n",
        "\n",
        "        break\n",
        "\n",
        "plt.show()"
      ],
      "execution_count": 0,
      "outputs": []
    },
    {
      "cell_type": "code",
      "metadata": {
        "id": "WI7tH6lii7_r",
        "colab_type": "code",
        "colab": {}
      },
      "source": [
        "del loaders\n",
        "del model\n",
        "del state\n",
        "torch.cuda.empty_cache()"
      ],
      "execution_count": 0,
      "outputs": []
    },
    {
      "cell_type": "code",
      "metadata": {
        "id": "BkR_DaA-i-QK",
        "colab_type": "code",
        "colab": {}
      },
      "source": [
        "import importlib\n",
        "importlib.reload(models)\n",
        "importlib.reload(worker)\n",
        "importlib.reload(loader)"
      ],
      "execution_count": 0,
      "outputs": []
    }
  ]
}