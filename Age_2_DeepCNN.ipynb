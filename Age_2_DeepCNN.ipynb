{
  "nbformat": 4,
  "nbformat_minor": 0,
  "metadata": {
    "colab": {
      "name": "Age-2-DeepCNN.ipynb",
      "provenance": [],
      "collapsed_sections": []
    },
    "kernelspec": {
      "name": "python3",
      "display_name": "Python 3"
    }
  },
  "cells": [
    {
      "cell_type": "code",
      "metadata": {
        "id": "Xy12Q3N74M5t",
        "colab_type": "code",
        "outputId": "94a68e11-7cfb-473c-e472-54db81255b76",
        "colab": {
          "base_uri": "https://localhost:8080/",
          "height": 98
        }
      },
      "source": [
        "!git clone https://github.com/pruvi007/Age-Estimation-Models"
      ],
      "execution_count": 0,
      "outputs": [
        {
          "output_type": "stream",
          "text": [
            "Cloning into 'Age-Estimation-Models'...\n",
            "remote: Enumerating objects: 2225, done.\u001b[K\n",
            "remote: Total 2225 (delta 0), reused 0 (delta 0), pack-reused 2225\n",
            "Receiving objects: 100% (2225/2225), 88.94 MiB | 45.77 MiB/s, done.\n",
            "Resolving deltas: 100% (1/1), done.\n"
          ],
          "name": "stdout"
        }
      ]
    },
    {
      "cell_type": "code",
      "metadata": {
        "id": "enkr0IRR4ZYy",
        "colab_type": "code",
        "outputId": "f177c433-f829-4f78-fcba-a3c0c7f977e6",
        "colab": {
          "base_uri": "https://localhost:8080/",
          "height": 33
        }
      },
      "source": [
        "import os\n",
        "import cv2\n",
        "import numpy as np\n",
        "from keras.utils import to_categorical"
      ],
      "execution_count": 0,
      "outputs": [
        {
          "output_type": "stream",
          "text": [
            "Using TensorFlow backend.\n"
          ],
          "name": "stderr"
        }
      ]
    },
    {
      "cell_type": "code",
      "metadata": {
        "id": "3acqCDpR4cyr",
        "colab_type": "code",
        "colab": {}
      },
      "source": [
        "def hotVector(n,classes):\n",
        "    vector = [ 0 for i in range(classes) ]\n",
        "    vector[n-1] = 1\n",
        "    vector = np.array(vector)\n",
        "    return vector"
      ],
      "execution_count": 0,
      "outputs": []
    },
    {
      "cell_type": "code",
      "metadata": {
        "id": "9cA8A1AY4f3R",
        "colab_type": "code",
        "outputId": "4598fb49-df38-4bf3-db63-5bf62335ea86",
        "colab": {
          "base_uri": "https://localhost:8080/",
          "height": 66
        }
      },
      "source": [
        "# get the images from directory\n",
        "dir = \"Age-Estimation-Models/FGNET/FGNET/images\"\n",
        "images = []\n",
        "for file in os.listdir(dir):\n",
        "    img = cv2.imread(dir+\"/\"+file,0)\n",
        "    images.append(img)\n",
        "images = np.array(images)\n",
        "print(np.shape(images[0]))\n",
        "# resize the images for uniformity\n",
        "min_x, min_y = 1000,1000\n",
        "for img in images:\n",
        "    min_x, min_y = min(min_x,np.shape(img)[0]), min(min_y,np.shape(img)[1])\n",
        "print(min_x,min_y)\n",
        "for i in range(len(images)):\n",
        "    width = min_x\n",
        "    height = min_y\n",
        "    dim = (width, height)\n",
        "    resized = cv2.resize(images[i], dim, interpolation = cv2.INTER_AREA)\n",
        "    images[i] = resized\n",
        "\n",
        "ages = []\n",
        "for file in os.listdir(dir):\n",
        "    s = file.split('.')\n",
        "    a = []\n",
        "    n = len(s[0])\n",
        "    for i in range(n-1,-1,-1):\n",
        "        if s[0][i]=='A':\n",
        "            break\n",
        "        a.append(s[0][i])\n",
        "    if a[0] in ['a','b','c','d','e']:\n",
        "        a.pop(0)\n",
        "    age = 0\n",
        "    for i in range(len(a)-1,-1,-1):\n",
        "        age = age*10 + int(a[i])\n",
        "    \n",
        "    # print(file)\n",
        "    # print(age)\n",
        "    ages.append(age)\n",
        "ages = np.array(ages)\n",
        "# ages = to_categorical(ages)\n",
        "print(np.shape(ages))"
      ],
      "execution_count": 0,
      "outputs": [
        {
          "output_type": "stream",
          "text": [
            "(447, 369)\n",
            "359 300\n",
            "(1002,)\n"
          ],
          "name": "stdout"
        }
      ]
    },
    {
      "cell_type": "code",
      "metadata": {
        "id": "oBgKxdTm4j9A",
        "colab_type": "code",
        "outputId": "7a0c2bae-303b-4b45-f482-8b4efbed5306",
        "colab": {
          "base_uri": "https://localhost:8080/",
          "height": 82
        }
      },
      "source": [
        "\n",
        "perc = 50\n",
        "train_x = []\n",
        "train_y = []\n",
        "for i in range((len(images)*perc)//100):\n",
        "    train_x.append( images[i].reshape(359,300,1) )\n",
        "    train_y.append( ages[i] )\n",
        "train_x = np.array(train_x)\n",
        "train_y = np.array(train_y)\n",
        "\n",
        "test_x,test_y = [],[]\n",
        "for i in range((len(images)*perc)//100,len(images)):\n",
        "    test_x.append( images[i].reshape(359,300,1) )\n",
        "    test_y.append( ages[i] )\n",
        "test_x = np.array(test_x)\n",
        "test_y = np.array(test_y)\n",
        "\n",
        "print(np.shape(train_x))\n",
        "print(np.shape(train_y))\n",
        "print(np.shape(test_x))\n",
        "print(np.shape(test_y))\n"
      ],
      "execution_count": 0,
      "outputs": [
        {
          "output_type": "stream",
          "text": [
            "(501, 359, 300, 1)\n",
            "(501,)\n",
            "(501, 359, 300, 1)\n",
            "(501,)\n"
          ],
          "name": "stdout"
        }
      ]
    },
    {
      "cell_type": "code",
      "metadata": {
        "id": "SnvMqs1I4nYG",
        "colab_type": "code",
        "outputId": "48ae7b4c-e94d-4e60-ac64-1ce09316cbde",
        "colab": {
          "base_uri": "https://localhost:8080/",
          "height": 553
        }
      },
      "source": [
        "import tensorflow as tf \n",
        "import matplotlib.pyplot as plt \n",
        "from keras.models import Sequential \n",
        "from keras.layers import Dense,Conv2D,Dropout,Flatten,MaxPooling2D\n",
        "\n",
        "input_shape = (359,300,1)\n",
        "model = Sequential()\n",
        "\n",
        "model.add(Conv2D(64,kernel_size=(5,5),input_shape=input_shape,activation='relu'))\n",
        "model.add(MaxPooling2D(pool_size=(3,3)))\n",
        "\n",
        "model.add(Conv2D(32,kernel_size=(3,3)))\n",
        "model.add(MaxPooling2D(pool_size=(3,3)))\n",
        "\n",
        "model.add(Conv2D(16,kernel_size=(3,3)))\n",
        "\n",
        "\n",
        "model.add(Conv2D(16,kernel_size=(3,3)))\n",
        "\n",
        "\n",
        "\n",
        "\n",
        "\n",
        "model.add(Flatten())  # flatten to form the FC layer\n",
        "model.add(Dense(70,activation=tf.nn.softmax))\n",
        "print(model.summary())\n",
        "\n",
        "\n",
        "model.compile(optimizer='adam',loss='sparse_categorical_crossentropy',metrics=['mae'])\n",
        "model.fit(x=train_x,y=train_y,epochs=10,batch_size=50)"
      ],
      "execution_count": 0,
      "outputs": [
        {
          "output_type": "stream",
          "text": [
            "Model: \"sequential_2\"\n",
            "_________________________________________________________________\n",
            "Layer (type)                 Output Shape              Param #   \n",
            "=================================================================\n",
            "conv2d_5 (Conv2D)            (None, 355, 296, 64)      1664      \n",
            "_________________________________________________________________\n",
            "max_pooling2d_3 (MaxPooling2 (None, 118, 98, 64)       0         \n",
            "_________________________________________________________________\n",
            "conv2d_6 (Conv2D)            (None, 116, 96, 32)       18464     \n",
            "_________________________________________________________________\n",
            "max_pooling2d_4 (MaxPooling2 (None, 38, 32, 32)        0         \n",
            "_________________________________________________________________\n",
            "conv2d_7 (Conv2D)            (None, 36, 30, 16)        4624      \n",
            "_________________________________________________________________\n",
            "conv2d_8 (Conv2D)            (None, 34, 28, 16)        2320      \n",
            "_________________________________________________________________\n",
            "flatten_2 (Flatten)          (None, 15232)             0         \n",
            "_________________________________________________________________\n",
            "dense_2 (Dense)              (None, 70)                1066310   \n",
            "=================================================================\n",
            "Total params: 1,093,382\n",
            "Trainable params: 1,093,382\n",
            "Non-trainable params: 0\n",
            "_________________________________________________________________\n",
            "None\n",
            "Epoch 1/10\n",
            "501/501 [==============================] - 60s 120ms/step - loss: 86.8412 - mae: 16.0965\n",
            "Epoch 2/10\n",
            "501/501 [==============================] - 58s 116ms/step - loss: 73.4003 - mae: 16.0965\n",
            "Epoch 3/10\n",
            "501/501 [==============================] - 57s 115ms/step - loss: 49.2220 - mae: 16.0965\n",
            "Epoch 4/10\n",
            "150/501 [=======>......................] - ETA: 40s - loss: 24.1507 - mae: 16.0865"
          ],
          "name": "stdout"
        }
      ]
    },
    {
      "cell_type": "code",
      "metadata": {
        "id": "lbhw7PFvM43B",
        "colab_type": "code",
        "outputId": "7308a124-e5bc-411c-cd13-645a3415447f",
        "colab": {
          "base_uri": "https://localhost:8080/",
          "height": 33
        }
      },
      "source": [
        "scores = model.evaluate(test_x, test_y, verbose=0)\n",
        "print(\"%s: %.5f%%\" % (model.metrics_names[1], scores[1]))"
      ],
      "execution_count": 0,
      "outputs": [
        {
          "output_type": "stream",
          "text": [
            "mae: 15.80037%\n"
          ],
          "name": "stdout"
        }
      ]
    }
  ]
}